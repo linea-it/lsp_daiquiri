{
 "cells": [
  {
   "cell_type": "markdown",
   "metadata": {},
   "source": [
    "# LSP Daiquiri Service Test\n",
    "\n",
    "This is just a temporary test."
   ]
  },
  {
   "cell_type": "code",
   "execution_count": 3,
   "metadata": {},
   "outputs": [
    {
     "name": "stdout",
     "output_type": "stream",
     "text": [
      "<DALResultsTable length=0>\n",
      "   ra     dec  \n",
      "float64 float64\n",
      "------- -------\n"
     ]
    }
   ],
   "source": [
    "import requests\n",
    "import pyvo\n",
    "\n",
    "s_url = \"https://userquery-dev.linea.org.br/tap\"\n",
    "\n",
    "q_name = \"test_service\"\n",
    "lang = \"PostgreSQL\"\n",
    "\n",
    "query_string = \"\"\"\n",
    "SELECT ra, dec\n",
    "FROM des_dr2.coadd_objects\n",
    "LIMIT 100\n",
    "\"\"\"\n",
    "\n",
    "tap_session = requests.Session()\n",
    "tap_service = pyvo.dal.TAPService(s_url, session=tap_session)\n",
    "\n",
    "result = tap_service.run_sync(query_string, language=lang)\n",
    "\n",
    "print(result)\n"
   ]
  },
  {
   "cell_type": "code",
   "execution_count": 16,
   "metadata": {},
   "outputs": [
    {
     "name": "stdout",
     "output_type": "stream",
     "text": [
      "https://userquery-dev.linea.org.br/tap/async\n",
      "None\n",
      "\n",
      "None\n"
     ]
    }
   ],
   "source": [
    "import requests\n",
    "import pyvo\n",
    "\n",
    "s_url = \"https://userquery-dev.linea.org.br/tap\"\n",
    "\n",
    "q_name = \"test_service\"\n",
    "lang = \"PostgreSQL\"\n",
    "\n",
    "query_string = \"\"\"\n",
    "SELECT ra, dec\n",
    "FROM des_dr2.coadd_objects\n",
    "LIMIT 100\n",
    "\"\"\"\n",
    "\n",
    "tap_session = requests.Session()\n",
    "tap_service = pyvo.dal.TAPService(s_url, session=tap_session)\n",
    "\n",
    "job = tap_service.submit_job(query_string, language=lang, runid=q_name, queue=\"30s\")\n",
    "job.query = query_string\n",
    "\n",
    "print(job.url)\n",
    "print(job.job_id)\n",
    "print(job.query)\n",
    "print(job.phase)\n",
    "\n",
    "\n",
    "# job.run()\n",
    "\n",
    "# job.wait(timeout=30.0)\n",
    "\n",
    "# job.raise_if_error()\n",
    "\n",
    "# tap_result = job.fetch_result()\n",
    "\n",
    "# print(tap_result)"
   ]
  }
 ],
 "metadata": {
  "kernelspec": {
   "display_name": "Python 3",
   "language": "python",
   "name": "python3"
  },
  "language_info": {
   "codemirror_mode": {
    "name": "ipython",
    "version": 3
   },
   "file_extension": ".py",
   "mimetype": "text/x-python",
   "name": "python",
   "nbconvert_exporter": "python",
   "pygments_lexer": "ipython3",
   "version": "3.9.19"
  }
 },
 "nbformat": 4,
 "nbformat_minor": 2
}
