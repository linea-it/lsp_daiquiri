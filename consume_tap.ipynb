{
 "cells": [
  {
   "attachments": {},
   "cell_type": "markdown",
   "metadata": {},
   "source": [
    "# Exemplo consumindo dados do Tap Service local usando pyvo."
   ]
  },
  {
   "cell_type": "code",
   "execution_count": null,
   "metadata": {},
   "outputs": [],
   "source": [
    "from pkg_resources import parse_version\n",
    "import pyvo\n",
    "\n",
    "#\n",
    "# Verify the version of pyvo\n",
    "#\n",
    "if parse_version(pyvo.__version__) < parse_version('1.0'):\n",
    "    raise ImportError('pyvo version must be at least than 1.0')\n",
    "\n",
    "print('\\npyvo version %s \\n' % (pyvo.__version__,))"
   ]
  },
  {
   "cell_type": "code",
   "execution_count": null,
   "metadata": {},
   "outputs": [],
   "source": [
    "import requests\n",
    "import pyvo\n",
    "\n",
    "#\n",
    "# Setup tap_service connection\n",
    "#\n",
    "service_name = \"LIneA Tap Service\"\n",
    "\n",
    "url = \"https://userquery-dev.linea.org.br/tap\"\n",
    "# url = \"http://172.24.0.1/daiquiri/tap\"\n",
    "# token = 'Token <your-token>'\n",
    "\n",
    "print('TAP service %s \\n' % (service_name,))\n",
    "\n",
    "# Setup authorization\n",
    "tap_session = requests.Session()\n",
    "# tap_session.headers['Authorization'] = token\n",
    "\n",
    "tap_service = pyvo.dal.TAPService(url, session=tap_session)\n",
    "\n",
    "print(f\"Is Available: [{tap_service.available}]\")"
   ]
  },
  {
   "cell_type": "code",
   "execution_count": null,
   "metadata": {},
   "outputs": [],
   "source": [
    "query = \"SELECT TOP 10 coadd_object_id, ra, dec from des_dr2.coadd_objects\"\n",
    "\n",
    "tap_result = tap_service.run_sync(query, language=\"adql\")\n",
    "\n",
    "tap_result.to_table().pprint()"
   ]
  },
  {
   "cell_type": "code",
   "execution_count": null,
   "metadata": {},
   "outputs": [],
   "source": [
    "query = \"SELECT coadd_object_id, ra, dec from des_dr2.coadd_objects limit 10\"\n",
    "\n",
    "tap_result = tap_service.run_sync(query, language=\"postgresql\")\n",
    "\n",
    "tap_result.to_table().pprint(max_lines=10)"
   ]
  }
 ],
 "metadata": {
  "kernelspec": {
   "display_name": "Python 3",
   "language": "python",
   "name": "python3"
  },
  "language_info": {
   "codemirror_mode": {
    "name": "ipython",
    "version": 3
   },
   "file_extension": ".py",
   "mimetype": "text/x-python",
   "name": "python",
   "nbconvert_exporter": "python",
   "pygments_lexer": "ipython3",
   "version": "3.9.19"
  },
  "orig_nbformat": 4
 },
 "nbformat": 4,
 "nbformat_minor": 2
}
