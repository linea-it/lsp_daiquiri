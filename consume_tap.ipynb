{
 "cells": [
  {
   "attachments": {},
   "cell_type": "markdown",
   "metadata": {},
   "source": [
    "# Exemplo consumindo dados do Tap Service local usando pyvo."
   ]
  },
  {
   "cell_type": "code",
   "execution_count": 1,
   "metadata": {},
   "outputs": [
    {
     "name": "stderr",
     "output_type": "stream",
     "text": [
      "/tmp/ipykernel_1040/3253754906.py:1: DeprecationWarning: pkg_resources is deprecated as an API. See https://setuptools.pypa.io/en/latest/pkg_resources.html\n",
      "  from pkg_resources import parse_version\n"
     ]
    },
    {
     "name": "stdout",
     "output_type": "stream",
     "text": [
      "\n",
      "pyvo version 1.4.2 \n",
      "\n"
     ]
    }
   ],
   "source": [
    "from pkg_resources import parse_version\n",
    "import pyvo\n",
    "\n",
    "#\n",
    "# Verify the version of pyvo\n",
    "#\n",
    "if parse_version(pyvo.__version__) < parse_version('1.0'):\n",
    "    raise ImportError('pyvo version must be at least than 1.0')\n",
    "\n",
    "print('\\npyvo version %s \\n' % (pyvo.__version__,))"
   ]
  },
  {
   "cell_type": "code",
   "execution_count": 2,
   "metadata": {},
   "outputs": [
    {
     "name": "stdout",
     "output_type": "stream",
     "text": [
      "TAP service LIneA Tap Service \n",
      "\n",
      "Is Available: [True]\n"
     ]
    }
   ],
   "source": [
    "import requests\n",
    "import pyvo\n",
    "\n",
    "#\n",
    "# Setup tap_service connection\n",
    "#\n",
    "service_name = \"LIneA Tap Service\"\n",
    "\n",
    "# url = \"https://userquery-dev.linea.org.br/tap\"\n",
    "url = \"http://172.26.0.1/tap\"\n",
    "# token = 'Token <your-token>'\n",
    "\n",
    "print('TAP service %s \\n' % (service_name,))\n",
    "\n",
    "# Setup authorization\n",
    "tap_session = requests.Session()\n",
    "# tap_session.headers['Authorization'] = token\n",
    "\n",
    "tap_service = pyvo.dal.TAPService(url, session=tap_session)\n",
    "\n",
    "print(f\"Is Available: [{tap_service.available}]\")"
   ]
  },
  {
   "cell_type": "code",
   "execution_count": 7,
   "metadata": {},
   "outputs": [
    {
     "name": "stdout",
     "output_type": "stream",
     "text": [
      "coadd_object_id     ra        dec    \n",
      "--------------- ---------- ----------\n",
      "      954200778 333.112355 -61.026571\n",
      "      957705680 333.868251  -61.69803\n",
      "      954201199 332.806105 -61.022547\n",
      "      954213924   333.3871  -61.14554\n",
      "      954203046 333.280633 -61.042644\n",
      "      953134393 332.835898 -60.619453\n",
      "      954225880 332.991364  -61.26087\n",
      "      954225576 332.604071 -61.257101\n",
      "      953139002 332.882059   -60.6639\n",
      "      957651309 334.418602 -61.149001\n"
     ]
    }
   ],
   "source": [
    "query = \"SELECT TOP 10 coadd_object_id, ra, dec from des_dr2.main\"\n",
    "\n",
    "tap_result = tap_service.run_sync(query, language=\"adql\")\n",
    "\n",
    "tap_result.to_table().pprint()"
   ]
  },
  {
   "cell_type": "code",
   "execution_count": 8,
   "metadata": {},
   "outputs": [
    {
     "name": "stdout",
     "output_type": "stream",
     "text": [
      "coadd_object_id     ra        dec    \n",
      "--------------- ---------- ----------\n",
      "      954200778 333.112355 -61.026571\n",
      "      957705680 333.868251  -61.69803\n",
      "      954201199 332.806105 -61.022547\n",
      "            ...        ...        ...\n",
      "      954225576 332.604071 -61.257101\n",
      "      953139002 332.882059   -60.6639\n",
      "      957651309 334.418602 -61.149001\n",
      "Length = 10 rows\n"
     ]
    }
   ],
   "source": [
    "query = \"SELECT coadd_object_id, ra, dec from des_dr2.main limit 10\"\n",
    "\n",
    "tap_result = tap_service.run_sync(query, language=\"postgresql\")\n",
    "\n",
    "tap_result.to_table().pprint(max_lines=10)"
   ]
  },
  {
   "cell_type": "code",
   "execution_count": 5,
   "metadata": {},
   "outputs": [
    {
     "name": "stdout",
     "output_type": "stream",
     "text": [
      "<pyvo.dal.tap.AsyncTAPJob object at 0x7f53fcc61940>\n"
     ]
    },
    {
     "ename": "DALServiceError",
     "evalue": "404 Client Error: Not Found for url: http://172.26.0.1/tap/async/phase",
     "output_type": "error",
     "traceback": [
      "\u001b[0;31m---------------------------------------------------------------------------\u001b[0m",
      "\u001b[0;31mHTTPError\u001b[0m                                 Traceback (most recent call last)",
      "File \u001b[0;32m/usr/local/lib/python3.9/site-packages/pyvo/dal/tap.py:880\u001b[0m, in \u001b[0;36mAsyncTAPJob.run\u001b[0;34m(self)\u001b[0m\n\u001b[1;32m    878\u001b[0m     response \u001b[38;5;241m=\u001b[39m \u001b[38;5;28mself\u001b[39m\u001b[38;5;241m.\u001b[39m_session\u001b[38;5;241m.\u001b[39mpost(\n\u001b[1;32m    879\u001b[0m         \u001b[38;5;124m'\u001b[39m\u001b[38;5;132;01m{}\u001b[39;00m\u001b[38;5;124m/phase\u001b[39m\u001b[38;5;124m'\u001b[39m\u001b[38;5;241m.\u001b[39mformat(\u001b[38;5;28mself\u001b[39m\u001b[38;5;241m.\u001b[39murl), data\u001b[38;5;241m=\u001b[39m{\u001b[38;5;124m\"\u001b[39m\u001b[38;5;124mPHASE\u001b[39m\u001b[38;5;124m\"\u001b[39m: \u001b[38;5;124m\"\u001b[39m\u001b[38;5;124mRUN\u001b[39m\u001b[38;5;124m\"\u001b[39m})\n\u001b[0;32m--> 880\u001b[0m     \u001b[43mresponse\u001b[49m\u001b[38;5;241;43m.\u001b[39;49m\u001b[43mraise_for_status\u001b[49m\u001b[43m(\u001b[49m\u001b[43m)\u001b[49m\n\u001b[1;32m    881\u001b[0m \u001b[38;5;28;01mexcept\u001b[39;00m requests\u001b[38;5;241m.\u001b[39mRequestException \u001b[38;5;28;01mas\u001b[39;00m ex:\n",
      "File \u001b[0;32m/usr/local/lib/python3.9/site-packages/requests/models.py:1021\u001b[0m, in \u001b[0;36mResponse.raise_for_status\u001b[0;34m(self)\u001b[0m\n\u001b[1;32m   1020\u001b[0m \u001b[38;5;28;01mif\u001b[39;00m http_error_msg:\n\u001b[0;32m-> 1021\u001b[0m     \u001b[38;5;28;01mraise\u001b[39;00m HTTPError(http_error_msg, response\u001b[38;5;241m=\u001b[39m\u001b[38;5;28mself\u001b[39m)\n",
      "\u001b[0;31mHTTPError\u001b[0m: 404 Client Error: Not Found for url: http://172.26.0.1/tap/async/phase",
      "\nDuring handling of the above exception, another exception occurred:\n",
      "\u001b[0;31mDALServiceError\u001b[0m                           Traceback (most recent call last)",
      "Cell \u001b[0;32mIn[5], line 19\u001b[0m\n\u001b[1;32m     15\u001b[0m \u001b[38;5;28mprint\u001b[39m(job)\n\u001b[1;32m     16\u001b[0m \u001b[38;5;66;03m# print(job.job_id)\u001b[39;00m\n\u001b[1;32m     17\u001b[0m \u001b[38;5;66;03m# print(job.query)\u001b[39;00m\n\u001b[1;32m     18\u001b[0m \u001b[38;5;66;03m# print(job.phase)\u001b[39;00m\n\u001b[0;32m---> 19\u001b[0m \u001b[43mjob\u001b[49m\u001b[38;5;241;43m.\u001b[39;49m\u001b[43mrun\u001b[49m\u001b[43m(\u001b[49m\u001b[43m)\u001b[49m\n\u001b[1;32m     20\u001b[0m \u001b[38;5;66;03m# job.wait(timeout=30.0)\u001b[39;00m\n\u001b[1;32m     21\u001b[0m \u001b[38;5;66;03m# job.raise_if_error()\u001b[39;00m\n\u001b[1;32m     22\u001b[0m \u001b[38;5;66;03m# tap_result = job.fetch_result()\u001b[39;00m\n\u001b[1;32m     23\u001b[0m \u001b[38;5;66;03m# print(tap_result)\u001b[39;00m\n",
      "File \u001b[0;32m/usr/local/lib/python3.9/site-packages/pyvo/dal/tap.py:882\u001b[0m, in \u001b[0;36mAsyncTAPJob.run\u001b[0;34m(self)\u001b[0m\n\u001b[1;32m    880\u001b[0m     response\u001b[38;5;241m.\u001b[39mraise_for_status()\n\u001b[1;32m    881\u001b[0m \u001b[38;5;28;01mexcept\u001b[39;00m requests\u001b[38;5;241m.\u001b[39mRequestException \u001b[38;5;28;01mas\u001b[39;00m ex:\n\u001b[0;32m--> 882\u001b[0m     \u001b[38;5;28;01mraise\u001b[39;00m DALServiceError\u001b[38;5;241m.\u001b[39mfrom_except(ex, \u001b[38;5;28mself\u001b[39m\u001b[38;5;241m.\u001b[39murl)\n\u001b[1;32m    884\u001b[0m \u001b[38;5;28;01mreturn\u001b[39;00m \u001b[38;5;28mself\u001b[39m\n",
      "\u001b[0;31mDALServiceError\u001b[0m: 404 Client Error: Not Found for url: http://172.26.0.1/tap/async/phase"
     ]
    }
   ],
   "source": [
    "import requests\n",
    "import pyvo\n",
    "\n",
    "s_url = \"http://172.26.0.1/tap\"\n",
    "q_name = \"test_service\"\n",
    "lang = \"PostgreSQL\"\n",
    "query_string = \"\"\"\n",
    "SELECT ra, dec\n",
    "FROM des_dr2.main\n",
    "LIMIT 100\n",
    "\"\"\"\n",
    "tap_session = requests.Session()\n",
    "tap_service = pyvo.dal.TAPService(s_url, session=tap_session)\n",
    "job = tap_service.submit_job(query_string, language=lang, runid=q_name, queue=\"30s\")\n",
    "print(job)\n",
    "# print(job.job_id)\n",
    "# print(job.query)\n",
    "# print(job.phase)\n",
    "job.run()\n",
    "# job.wait(timeout=30.0)\n",
    "# job.raise_if_error()\n",
    "# tap_result = job.fetch_result()\n",
    "# print(tap_result)"
   ]
  }
 ],
 "metadata": {
  "kernelspec": {
   "display_name": "Python 3",
   "language": "python",
   "name": "python3"
  },
  "language_info": {
   "codemirror_mode": {
    "name": "ipython",
    "version": 3
   },
   "file_extension": ".py",
   "mimetype": "text/x-python",
   "name": "python",
   "nbconvert_exporter": "python",
   "pygments_lexer": "ipython3",
   "version": "3.9.19"
  },
  "orig_nbformat": 4
 },
 "nbformat": 4,
 "nbformat_minor": 2
}
