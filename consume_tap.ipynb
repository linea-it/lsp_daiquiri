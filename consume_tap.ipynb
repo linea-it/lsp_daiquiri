{
 "cells": [
  {
   "attachments": {},
   "cell_type": "markdown",
   "metadata": {},
   "source": [
    "# Exemplo consumindo dados do Tap Service local usando pyvo."
   ]
  },
  {
   "cell_type": "code",
   "execution_count": null,
   "metadata": {},
   "outputs": [],
   "source": [
    "from pkg_resources import parse_version\n",
    "import pyvo\n",
    "\n",
    "#\n",
    "# Verify the version of pyvo\n",
    "#\n",
    "if parse_version(pyvo.__version__) < parse_version('1.0'):\n",
    "    raise ImportError('pyvo version must be at least than 1.0')\n",
    "\n",
    "print('\\npyvo version %s \\n' % (pyvo.__version__,))"
   ]
  },
  {
   "cell_type": "markdown",
   "metadata": {},
   "source": [
    "## Acesso Anonimo"
   ]
  },
  {
   "cell_type": "code",
   "execution_count": null,
   "metadata": {},
   "outputs": [],
   "source": [
    "import requests\n",
    "import pyvo\n",
    "\n",
    "# Setup tap_service connection\n",
    "service_name = \"LIneA Tap Service\"\n",
    "url = \"https://userquery-dev.linea.org.br/tap\"\n",
    "\n",
    "# Setup authorization\n",
    "tap_session = requests.Session()\n",
    "\n",
    "tap_service = pyvo.dal.TAPService(url, session=tap_session)\n",
    "\n",
    "print(\"TAP service %s \\n\" % (service_name,))\n",
    "print(f\"Is Available: [{tap_service.available}]\")"
   ]
  },
  {
   "cell_type": "markdown",
   "metadata": {},
   "source": [
    "## Query ADQL Sincrona"
   ]
  },
  {
   "cell_type": "code",
   "execution_count": null,
   "metadata": {},
   "outputs": [],
   "source": [
    "query = \"SELECT TOP 10 coadd_object_id, ra, dec from des_dr2.main\"\n",
    "\n",
    "tap_result = tap_service.run_sync(query, language=\"adql\")\n",
    "\n",
    "tap_result.to_table().pprint()"
   ]
  },
  {
   "cell_type": "markdown",
   "metadata": {},
   "source": [
    "## Query Postgres Sincrona"
   ]
  },
  {
   "cell_type": "code",
   "execution_count": null,
   "metadata": {},
   "outputs": [],
   "source": [
    "query = \"SELECT coadd_object_id, ra, dec from des_dr2.main limit 10\"\n",
    "\n",
    "tap_result = tap_service.run_sync(query, language=\"postgresql\")\n",
    "\n",
    "tap_result.to_table().pprint(max_lines=10)"
   ]
  },
  {
   "cell_type": "markdown",
   "metadata": {},
   "source": [
    "## Query Autenticado"
   ]
  },
  {
   "cell_type": "code",
   "execution_count": null,
   "metadata": {},
   "outputs": [],
   "source": [
    "import requests\n",
    "import pyvo\n",
    "\n",
    "#\n",
    "# Setup tap_service connection\n",
    "#\n",
    "service_name = \"LIneA Tap Service\"\n",
    "\n",
    "url = \"https://userquery-dev.linea.org.br/tap\"\n",
    "token = \"Token 8ac4dcc4a198c92bee7a4216192146b36173b2c4\"\n",
    "\n",
    "print('TAP service %s \\n' % (service_name,))\n",
    "\n",
    "# Setup authorization\n",
    "tap_session = requests.Session()\n",
    "tap_session.headers['Authorization'] = token\n",
    "\n",
    "tap_service = pyvo.dal.TAPService(url, session=tap_session)\n",
    "\n",
    "print(f\"Is Available: [{tap_service.available}]\")\n",
    "\n",
    "query = \"SELECT coadd_object_id, ra, dec from des_dr2.main limit 10\"\n",
    "\n",
    "tap_result = tap_service.run_sync(query, language=\"postgresql\")\n",
    "\n",
    "tap_result.to_table().pprint(max_lines=10)"
   ]
  },
  {
   "cell_type": "markdown",
   "metadata": {},
   "source": [
    "## Query Assincrona\n",
    "\n",
    "TODO: Não consegui fazer a query assincrona funcionar com pyvo, mas está funcionando corretamente com TopCat."
   ]
  },
  {
   "cell_type": "code",
   "execution_count": null,
   "metadata": {},
   "outputs": [],
   "source": [
    "import requests\n",
    "import pyvo\n",
    "\n",
    "s_url = \"https://userquery-dev.linea.org.br/tap\"\n",
    "q_name = \"test_service\"\n",
    "lang = \"PostgreSQL\"\n",
    "query_string = \"\"\"\n",
    "SELECT ra, dec\n",
    "FROM des_dr2.main\n",
    "LIMIT 10\n",
    "\"\"\"\n",
    "tap_session = requests.Session()\n",
    "tap_service = pyvo.dal.TAPService(s_url, session=tap_session)\n",
    "job = tap_service.submit_job(query_string, language=lang, runid=q_name, queue=\"30s\")\n",
    "# print(job)\n",
    "# print(job.job_id)\n",
    "# print(job.query)\n",
    "# print(job.phase)\n",
    "# job.run()\n",
    "# job.wait(timeout=30.0)\n",
    "# job.raise_if_error()\n",
    "# tap_result = job.fetch_result()\n",
    "# print(tap_result)"
   ]
  }
 ],
 "metadata": {
  "kernelspec": {
   "display_name": "Python 3",
   "language": "python",
   "name": "python3"
  },
  "language_info": {
   "codemirror_mode": {
    "name": "ipython",
    "version": 3
   },
   "file_extension": ".py",
   "mimetype": "text/x-python",
   "name": "python",
   "nbconvert_exporter": "python",
   "pygments_lexer": "ipython3",
   "version": "3.11.9"
  },
  "orig_nbformat": 4
 },
 "nbformat": 4,
 "nbformat_minor": 2
}
