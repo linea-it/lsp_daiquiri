{
 "cells": [
  {
   "attachments": {},
   "cell_type": "markdown",
   "metadata": {},
   "source": [
    "# Exemplo consumindo dados do Tap Service local usando pyvo."
   ]
  },
  {
   "cell_type": "code",
   "execution_count": 1,
   "metadata": {},
   "outputs": [
    {
     "name": "stdout",
     "output_type": "stream",
     "text": [
      "\n",
      "pyvo version 1.4.1 \n",
      "\n"
     ]
    }
   ],
   "source": [
    "from pkg_resources import parse_version\n",
    "import pyvo\n",
    "\n",
    "#\n",
    "# Verify the version of pyvo\n",
    "#\n",
    "if parse_version(pyvo.__version__) < parse_version('1.0'):\n",
    "    raise ImportError('pyvo version must be at least than 1.0')\n",
    "\n",
    "print('\\npyvo version %s \\n' % (pyvo.__version__,))"
   ]
  },
  {
   "cell_type": "code",
   "execution_count": 29,
   "metadata": {},
   "outputs": [
    {
     "name": "stdout",
     "output_type": "stream",
     "text": [
      "TAP service LIneA Tap Service \n",
      "\n",
      "Is Available: [True]\n"
     ]
    }
   ],
   "source": [
    "import requests\n",
    "import pyvo\n",
    "\n",
    "#\n",
    "# Setup tap_service connection\n",
    "#\n",
    "service_name = \"LIneA Tap Service\"\n",
    "\n",
    "# url = \"http://localhost/daiquiri/tap\"\n",
    "url = \"http://172.24.0.1/daiquiri/tap\"\n",
    "# token = 'Token <your-token>'\n",
    "\n",
    "print('TAP service %s \\n' % (service_name,))\n",
    "\n",
    "# Setup authorization\n",
    "tap_session = requests.Session()\n",
    "# tap_session.headers['Authorization'] = token\n",
    "\n",
    "tap_service = pyvo.dal.TAPService(url, session=tap_session)\n",
    "\n",
    "print(f\"Is Available: [{tap_service.available}]\")\n"
   ]
  },
  {
   "cell_type": "code",
   "execution_count": 25,
   "metadata": {},
   "outputs": [
    {
     "name": "stdout",
     "output_type": "stream",
     "text": [
      "     source_id             ra               dec       \n",
      "------------------- ---------------- -----------------\n",
      "2481164162647472896 25.6125071432181 -3.40107774130801\n",
      "2481164162647215872 25.6124278693609 -3.39986096035102\n",
      "2481164815482501760 25.6405138604541 -3.39845373990014\n",
      "                ...              ...               ...\n",
      "2505540880900538624 26.0438362958819 -2.05610056901392\n",
      "2505540885191179520 26.0458589688854 -2.05363809357809\n",
      "2505529507822383616 26.0715228258224   -2.054553573444\n",
      "Length = 5152 rows\n"
     ]
    }
   ],
   "source": [
    "query = \"SELECT source_id, ra, dec from gaia.gaia_dr2\"\n",
    "\n",
    "tap_result = tap_service.run_sync(query, language=\"adql\")\n",
    "\n",
    "tap_result.to_table().pprint(max_lines=10)"
   ]
  },
  {
   "cell_type": "code",
   "execution_count": 26,
   "metadata": {},
   "outputs": [
    {
     "name": "stdout",
     "output_type": "stream",
     "text": [
      "     source_id             ra               dec       \n",
      "------------------- ---------------- -----------------\n",
      "2481164162647472896 25.6125071432181 -3.40107774130801\n",
      "2481164162647215872 25.6124278693609 -3.39986096035102\n",
      "2481164815482501760 25.6405138604541 -3.39845373990014\n",
      "                ...              ...               ...\n",
      "2481354373864185472  25.652681600925 -3.28504188336291\n",
      "2481377841565481600  25.660691285969 -3.27795935544838\n",
      "2481164952921455104 25.6647616331409  -3.3790326249827\n",
      "Length = 20 rows\n"
     ]
    }
   ],
   "source": [
    "query = \"SELECT source_id, ra, dec from gaia.gaia_dr2 limit 20\"\n",
    "\n",
    "tap_result = tap_service.run_sync(query, language=\"postgresql\")\n",
    "\n",
    "tap_result.to_table().pprint(max_lines=10)"
   ]
  }
 ],
 "metadata": {
  "kernelspec": {
   "display_name": "Python 3",
   "language": "python",
   "name": "python3"
  },
  "language_info": {
   "codemirror_mode": {
    "name": "ipython",
    "version": 3
   },
   "file_extension": ".py",
   "mimetype": "text/x-python",
   "name": "python",
   "nbconvert_exporter": "python",
   "pygments_lexer": "ipython3",
   "version": "3.9.16"
  },
  "orig_nbformat": 4
 },
 "nbformat": 4,
 "nbformat_minor": 2
}
